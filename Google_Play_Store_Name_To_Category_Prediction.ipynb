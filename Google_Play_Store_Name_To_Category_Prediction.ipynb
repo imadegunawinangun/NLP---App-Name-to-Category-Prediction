{
  "nbformat": 4,
  "nbformat_minor": 0,
  "metadata": {
    "colab": {
      "name": "Google Play Store - Name To Category Prediction.ipynb",
      "provenance": [],
      "authorship_tag": "ABX9TyNY6CCHG0/8w2VXJhvTIsbH",
      "include_colab_link": true
    },
    "kernelspec": {
      "name": "python3",
      "display_name": "Python 3"
    },
    "language_info": {
      "name": "python"
    }
  },
  "cells": [
    {
      "cell_type": "markdown",
      "metadata": {
        "id": "view-in-github",
        "colab_type": "text"
      },
      "source": [
        "<a href=\"https://colab.research.google.com/github/imadegunawinangun/NLP---App-Name-to-Category-Prediction/blob/main/Google_Play_Store_Name_To_Category_Prediction.ipynb\" target=\"_parent\"><img src=\"https://colab.research.google.com/assets/colab-badge.svg\" alt=\"Open In Colab\"/></a>"
      ]
    },
    {
      "cell_type": "code",
      "metadata": {
        "id": "P4xjDtUh1Nw0"
      },
      "source": [
        ""
      ],
      "execution_count": null,
      "outputs": []
    }
  ]
}